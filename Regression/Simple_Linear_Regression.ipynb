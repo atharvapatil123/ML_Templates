{
  "nbformat": 4,
  "nbformat_minor": 0,
  "metadata": {
    "colab": {
      "name": "Simple_Linear_Regression.ipynb",
      "provenance": [],
      "include_colab_link": true
    },
    "kernelspec": {
      "name": "python3",
      "display_name": "Python 3"
    },
    "language_info": {
      "name": "python"
    }
  },
  "cells": [
    {
      "cell_type": "markdown",
      "metadata": {
        "id": "view-in-github",
        "colab_type": "text"
      },
      "source": [
        "<a href=\"https://colab.research.google.com/github/atharvapatil123/ML_Practice/blob/master/Regression/Simple_Linear_Regression.ipynb\" target=\"_parent\"><img src=\"https://colab.research.google.com/assets/colab-badge.svg\" alt=\"Open In Colab\"/></a>"
      ]
    },
    {
      "cell_type": "markdown",
      "source": [
        "# Simple Linear Regression"
      ],
      "metadata": {
        "id": "kx3He6qgpWr6"
      }
    },
    {
      "cell_type": "markdown",
      "source": [
        "## Theory"
      ],
      "metadata": {
        "id": "PJjrSvxgpaxv"
      }
    },
    {
      "cell_type": "markdown",
      "metadata": {
        "id": "cVtDi8oH5KhZ"
      },
      "source": [
        "y = b0 + b1*x1\n",
        "\n",
        "y: dependent variable\n",
        "\n",
        "x1: independent variable, causes dependent variable to change\n",
        "\n",
        "b1: coeff of independent variable. How unit change in x1 causes change in y\n",
        "\n",
        "b0: Constant term\n",
        "\n",
        "**Ordinary Least Squares:** Sum of (y-y`)^2 must be minimum.\n",
        "\n",
        "y: Observed value, y`: Model-based value"
      ]
    },
    {
      "cell_type": "markdown",
      "source": [
        "## Implementation"
      ],
      "metadata": {
        "id": "BX9nNJEhpdIg"
      }
    },
    {
      "cell_type": "code",
      "metadata": {
        "id": "n1wUyzv05NQb"
      },
      "source": [
        "# Importing libraries\n",
        "# -------------------\n",
        "import numpy as np\n",
        "import matplotlib.pyplot as plt\n",
        "import pandas as pd "
      ],
      "execution_count": null,
      "outputs": []
    },
    {
      "cell_type": "code",
      "metadata": {
        "id": "-o7xFUeK5R03"
      },
      "source": [
        "# Importing the dataset\n",
        "# ---------------------\n",
        "\n",
        "dataset = pd.read_csv('Salary_Data.csv')\n",
        "# Creates a dataframe\n",
        "x = dataset.iloc[:,:-1].values #Feature/independent variables: Using which we predict the dependent variable\n",
        "y = dataset.iloc[:,-1].values\n"
      ],
      "execution_count": null,
      "outputs": []
    },
    {
      "cell_type": "code",
      "metadata": {
        "id": "wwj6OLYs5btO"
      },
      "source": [
        "print(x, y)"
      ],
      "execution_count": null,
      "outputs": []
    },
    {
      "cell_type": "code",
      "metadata": {
        "id": "F_d8B8o05cRI"
      },
      "source": [
        "from sklearn.model_selection import train_test_split\n",
        "\n",
        "x_train, x_test, y_train, y_test = train_test_split(x, y, test_size=0.2, random_state = 0)"
      ],
      "execution_count": null,
      "outputs": []
    },
    {
      "cell_type": "markdown",
      "metadata": {
        "id": "FJPQyS3Z5rkj"
      },
      "source": [
        "\n",
        "Training Simple Linear Regression model on the Training set"
      ]
    },
    {
      "cell_type": "code",
      "metadata": {
        "colab": {
          "base_uri": "https://localhost:8080/"
        },
        "id": "ad4h3jjU5sYO",
        "outputId": "d1eee013-0576-4b1b-b32f-5d34bf245bba"
      },
      "source": [
        "from sklearn.linear_model import LinearRegression\n",
        "regressor = LinearRegression()#Simply creates a model\n",
        "regressor.fit(x_train, y_train) #Connects to our train dataset"
      ],
      "execution_count": null,
      "outputs": [
        {
          "output_type": "execute_result",
          "data": {
            "text/plain": [
              "LinearRegression()"
            ]
          },
          "metadata": {},
          "execution_count": 6
        }
      ]
    },
    {
      "cell_type": "markdown",
      "metadata": {
        "id": "OEX52zef5xE1"
      },
      "source": [
        "Predicting the Test set results"
      ]
    },
    {
      "cell_type": "code",
      "metadata": {
        "id": "RK-LoPPs5uh8"
      },
      "source": [
        "y_pred = regressor.predict(x_test)\n"
      ],
      "execution_count": null,
      "outputs": []
    },
    {
      "cell_type": "code",
      "metadata": {
        "colab": {
          "base_uri": "https://localhost:8080/"
        },
        "id": "zUzX0Axm50B8",
        "outputId": "86b84be4-ae41-40d0-e201-936b7773bee6"
      },
      "source": [
        "y_test"
      ],
      "execution_count": null,
      "outputs": [
        {
          "output_type": "execute_result",
          "data": {
            "text/plain": [
              "array([ 37731, 122391,  57081,  63218, 116969, 109431])"
            ]
          },
          "metadata": {},
          "execution_count": 8
        }
      ]
    },
    {
      "cell_type": "code",
      "metadata": {
        "colab": {
          "base_uri": "https://localhost:8080/",
          "height": 295
        },
        "id": "VA11LnTd52Fm",
        "outputId": "71d20be7-652a-4bd4-bd03-901c12267d21"
      },
      "source": [
        "plt.scatter(x_train, y_train, color = 'red')\n",
        "plt.plot(x_train,regressor.predict(x_train), color='blue')\n",
        "plt.title('Salary vs Exp (Training Set)')\n",
        "plt.xlabel('Years of Exp')\n",
        "plt.ylabel('Salary')\n",
        "plt.show()"
      ],
      "execution_count": null,
      "outputs": [
        {
          "output_type": "display_data",
          "data": {
            "image/png": "[encoded data removed]",
            "text/plain": [
              "<Figure size 432x288 with 1 Axes>"
            ]
          },
          "metadata": {
            "needs_background": "light"
          }
        }
      ]
    },
    {
      "cell_type": "code",
      "metadata": {
        "colab": {
          "base_uri": "https://localhost:8080/",
          "height": 295
        },
        "id": "HBGK39Y955Io",
        "outputId": "e10affb7-f9d0-4172-d9dd-49e44cb37e3b"
      },
      "source": [
        "plt.scatter(x_test, y_test, color = 'red')\n",
        "plt.plot(x_train,regressor.predict(x_train), color='blue')\n",
        "plt.title('Salary vs Exp (Training Set)')\n",
        "plt.xlabel('Years of Exp')\n",
        "plt.ylabel('Salary')\n",
        "plt.show()"
      ],
      "execution_count": null,
      "outputs": [
        {
          "output_type": "display_data",
          "data": {
            "image/png": "[encoded data removed]",
            "text/plain": [
              "<Figure size 432x288 with 1 Axes>"
            ]
          },
          "metadata": {
            "needs_background": "light"
          }
        }
      ]
    }
  ]
}