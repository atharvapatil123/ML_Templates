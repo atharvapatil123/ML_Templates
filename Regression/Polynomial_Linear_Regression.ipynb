{
  "nbformat": 4,
  "nbformat_minor": 0,
  "metadata": {
    "colab": {
      "name": "Polynomial Linear Regression.ipynb",
      "provenance": [],
      "authorship_tag": "ABX9TyNIUdlN7Se3Cdv8X93xZlhZ",
      "include_colab_link": true
    },
    "kernelspec": {
      "name": "python3",
      "display_name": "Python 3"
    },
    "language_info": {
      "name": "python"
    }
  },
  "cells": [
    {
      "cell_type": "markdown",
      "metadata": {
        "id": "view-in-github",
        "colab_type": "text"
      },
      "source": [
        "<a href=\"https://colab.research.google.com/github/atharvapatil123/ML_Practice/blob/master/Polynomial_Linear_Regression.ipynb\" target=\"_parent\"><img src=\"https://colab.research.google.com/assets/colab-badge.svg\" alt=\"Open In Colab\"/></a>"
      ]
    },
    {
      "cell_type": "markdown",
      "metadata": {
        "id": "YrlI9JrY3zuS"
      },
      "source": [
        "**Polnomial Linear Regression**\n",
        "\n",
        "y = b0 + b1x1 + b2x1^2 + b3x1^3 + ... + bnx1^n\n",
        "\n",
        ": EQUATION OF PARABOLA\n",
        "\n",
        "Works for non-linear relationship among data.\n",
        "Linear because linearity is w.r.t the coefficients and not the variables.\n",
        "\n",
        "Example of non-linear: (b0 + b1x1)/b2"
      ]
    },
    {
      "cell_type": "code",
      "metadata": {
        "id": "-Y8maJVP30bf"
      },
      "source": [
        "import numpy as np\n",
        "import pandas as pd\n",
        "import matplotlib.pyplot as plt\n"
      ],
      "execution_count": null,
      "outputs": []
    },
    {
      "cell_type": "code",
      "metadata": {
        "id": "gqYwSrPE7-F8"
      },
      "source": [
        "dataset = pd.read_csv('Position_Salaries.csv')\n",
        "# Dataset has 1st and 2nd column redundant, so we can do LabelEncoding for 1st column, but that is present in 2nd column\n",
        "x = dataset.iloc[:,1:2].values\n",
        "y = dataset.iloc[:,2].values"
      ],
      "execution_count": null,
      "outputs": []
    },
    {
      "cell_type": "code",
      "metadata": {
        "id": "DnyPIQiu7-Q5"
      },
      "source": [
        "print(x, y)"
      ],
      "execution_count": null,
      "outputs": []
    },
    {
      "cell_type": "markdown",
      "metadata": {
        "id": "0WvONtov9Xi9"
      },
      "source": [
        "Traning the Linear Regression Model on the whole dataset"
      ]
    },
    {
      "cell_type": "code",
      "metadata": {
        "colab": {
          "base_uri": "https://localhost:8080/"
        },
        "id": "EEOu62yG-hEf",
        "outputId": "c5a37192-0660-4489-e8b4-b8c94476c03e"
      },
      "source": [
        "from sklearn.linear_model import LinearRegression\n",
        "\n",
        "lin_reg = LinearRegression()\n",
        "lin_reg.fit(x, y)"
      ],
      "execution_count": null,
      "outputs": [
        {
          "output_type": "execute_result",
          "data": {
            "text/plain": [
              "LinearRegression()"
            ]
          },
          "metadata": {},
          "execution_count": 42
        }
      ]
    },
    {
      "cell_type": "markdown",
      "metadata": {
        "id": "oFbLzspEKSX4"
      },
      "source": [
        "Traning the Polynomial Regression Model on the whole dataset"
      ]
    },
    {
      "cell_type": "code",
      "metadata": {
        "colab": {
          "base_uri": "https://localhost:8080/"
        },
        "id": "-T0jJl3S-hGI",
        "outputId": "fa1c9a7d-1c51-4995-86e1-c92665c1dd54"
      },
      "source": [
        "from sklearn.preprocessing import  PolynomialFeatures\n",
        "# Create matrix of the features x1, x1^2, ... , xn^n\n",
        "poly_reg = PolynomialFeatures(degree = 5) # Here 5 features to be created: x1, x1^2, x1^3, x1^4, and x1^5\n",
        "x_poly = poly_reg.fit_transform(x)\n",
        "\n",
        "lin_reg_2 = LinearRegression()\n",
        "lin_reg_2.fit(x_poly, y)"
      ],
      "execution_count": null,
      "outputs": [
        {
          "output_type": "execute_result",
          "data": {
            "text/plain": [
              "LinearRegression()"
            ]
          },
          "metadata": {},
          "execution_count": 50
        }
      ]
    },
    {
      "cell_type": "code",
      "metadata": {
        "colab": {
          "base_uri": "https://localhost:8080/"
        },
        "id": "FOroKUE5_PNi",
        "outputId": "de40c0ab-f5a4-4d1c-92e0-468403187a0d"
      },
      "source": [
        "print(x_poly)"
      ],
      "execution_count": null,
      "outputs": [
        {
          "output_type": "stream",
          "name": "stdout",
          "text": [
            "[[1.0000e+00 1.0000e+00 1.0000e+00 1.0000e+00 1.0000e+00 1.0000e+00]\n",
            " [1.0000e+00 2.0000e+00 4.0000e+00 8.0000e+00 1.6000e+01 3.2000e+01]\n",
            " [1.0000e+00 3.0000e+00 9.0000e+00 2.7000e+01 8.1000e+01 2.4300e+02]\n",
            " [1.0000e+00 4.0000e+00 1.6000e+01 6.4000e+01 2.5600e+02 1.0240e+03]\n",
            " [1.0000e+00 5.0000e+00 2.5000e+01 1.2500e+02 6.2500e+02 3.1250e+03]\n",
            " [1.0000e+00 6.0000e+00 3.6000e+01 2.1600e+02 1.2960e+03 7.7760e+03]\n",
            " [1.0000e+00 7.0000e+00 4.9000e+01 3.4300e+02 2.4010e+03 1.6807e+04]\n",
            " [1.0000e+00 8.0000e+00 6.4000e+01 5.1200e+02 4.0960e+03 3.2768e+04]\n",
            " [1.0000e+00 9.0000e+00 8.1000e+01 7.2900e+02 6.5610e+03 5.9049e+04]\n",
            " [1.0000e+00 1.0000e+01 1.0000e+02 1.0000e+03 1.0000e+04 1.0000e+05]]\n"
          ]
        }
      ]
    },
    {
      "cell_type": "markdown",
      "metadata": {
        "id": "w7NkfbIFMlYx"
      },
      "source": [
        "Visualising the Linear Regression results"
      ]
    },
    {
      "cell_type": "code",
      "metadata": {
        "colab": {
          "base_uri": "https://localhost:8080/",
          "height": 295
        },
        "id": "P-vomWEqMll3",
        "outputId": "f0d8db53-5939-4d1d-894d-cbf7339e7455"
      },
      "source": [
        "plt.scatter(x, y, color = 'purple')\n",
        "plt.plot(x, lin_reg.predict(x), color='green')\n",
        "plt.title(\"Truth or Bluff (Linear Regression Model)\")\n",
        "plt.xlabel(\"Position Level\")\n",
        "plt.xlabel(\"Salary\")\n",
        "plt.show()"
      ],
      "execution_count": null,
      "outputs": [
        {
          "output_type": "display_data",
          "data": {
            "image/png": "[encoded data removed]",
            "text/plain": [
              "<Figure size 432x288 with 1 Axes>"
            ]
          },
          "metadata": {
            "needs_background": "light"
          }
        }
      ]
    },
    {
      "cell_type": "code",
      "metadata": {
        "colab": {
          "base_uri": "https://localhost:8080/",
          "height": 295
        },
        "id": "b5dNTVy3Nd6W",
        "outputId": "daa77058-5cc2-440c-b114-7010e53042ad"
      },
      "source": [
        "plt.scatter(x, y, color = 'purple')\n",
        "plt.plot(x, lin_reg_2.predict(x_poly), color='green')\n",
        "plt.title(\"Polynomial Regression Model)\")\n",
        "plt.xlabel(\"Position Level\")\n",
        "plt.xlabel(\"Salary\")\n",
        "plt.show()"
      ],
      "execution_count": null,
      "outputs": [
        {
          "output_type": "display_data",
          "data": {
            "image/png": "[encoded data removed]",
            "text/plain": [
              "<Figure size 432x288 with 1 Axes>"
            ]
          },
          "metadata": {
            "needs_background": "light"
          }
        }
      ]
    },
    {
      "cell_type": "markdown",
      "metadata": {
        "id": "DUC19poFQZOZ"
      },
      "source": [
        "Predicting a new result with Linear Regression"
      ]
    },
    {
      "cell_type": "code",
      "metadata": {
        "colab": {
          "base_uri": "https://localhost:8080/"
        },
        "id": "mup03A6dQrDb",
        "outputId": "980e417a-b47d-4e55-daa0-abada63c47b7"
      },
      "source": [
        "print(lin_reg.predict([[6.5]]))"
      ],
      "execution_count": null,
      "outputs": [
        {
          "output_type": "stream",
          "name": "stdout",
          "text": [
            "[330378.78787879]\n"
          ]
        }
      ]
    },
    {
      "cell_type": "markdown",
      "metadata": {
        "id": "rjXRGRuxSJlf"
      },
      "source": [
        "Predicting a new result with Polynomial Regression"
      ]
    },
    {
      "cell_type": "code",
      "metadata": {
        "colab": {
          "base_uri": "https://localhost:8080/"
        },
        "id": "XWDKJT8IQrL7",
        "outputId": "302ae9f2-9b8a-4821-8d01-4e1badcbe2ac"
      },
      "source": [
        "x_new = poly_reg.fit_transform([[6.5]])\n",
        "\n",
        "print(lin_reg_2.predict(x_new))"
      ],
      "execution_count": null,
      "outputs": [
        {
          "output_type": "stream",
          "name": "stdout",
          "text": [
            "[174878.07765172]\n"
          ]
        }
      ]
    }
  ]
}